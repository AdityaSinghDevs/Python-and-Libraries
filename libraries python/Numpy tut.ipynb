{
 "cells": [
  {
   "cell_type": "markdown",
   "id": "a2ecdbb8-c909-4c5d-bf6c-fc3606a2a005",
   "metadata": {},
   "source": [
    "# NUMPY BASICS"
   ]
  },
  {
   "cell_type": "code",
   "execution_count": 1,
   "id": "d43e2124-e203-4c24-a31c-ad7aaaabc25a",
   "metadata": {},
   "outputs": [],
   "source": [
    "import numpy as np"
   ]
  },
  {
   "cell_type": "code",
   "execution_count": 2,
   "id": "d59f7dcb-7ee2-435b-9553-b1e0d2fd99b7",
   "metadata": {},
   "outputs": [
    {
     "name": "stdout",
     "output_type": "stream",
     "text": [
      "hello world\n"
     ]
    }
   ],
   "source": [
    "print(\"hello world\")"
   ]
  },
  {
   "cell_type": "code",
   "execution_count": 3,
   "id": "e2af5be9-b3fc-4504-963a-86f1b100043d",
   "metadata": {},
   "outputs": [],
   "source": [
    "a=np.array([1,2,3])"
   ]
  },
  {
   "cell_type": "code",
   "execution_count": 5,
   "id": "e3f0e502-843e-454b-9da7-a8bba25e65cd",
   "metadata": {},
   "outputs": [
    {
     "data": {
      "text/plain": [
       "array([1, 2, 3])"
      ]
     },
     "execution_count": 5,
     "metadata": {},
     "output_type": "execute_result"
    }
   ],
   "source": [
    "a"
   ]
  },
  {
   "cell_type": "code",
   "execution_count": 7,
   "id": "3ddc321f-1fe1-46b7-8fde-cff03ad00941",
   "metadata": {},
   "outputs": [],
   "source": [
    "b= np.array([[1,2],[3,4]])"
   ]
  },
  {
   "cell_type": "code",
   "execution_count": 9,
   "id": "5cec0978-7581-4366-b629-08ef5429fcac",
   "metadata": {},
   "outputs": [
    {
     "name": "stdout",
     "output_type": "stream",
     "text": [
      "[[1 2]\n",
      " [3 4]]\n"
     ]
    }
   ],
   "source": [
    "print(b)"
   ]
  },
  {
   "cell_type": "code",
   "execution_count": 19,
   "id": "2b8a8bab-c837-46d9-9e9d-66dbbcd1d7d3",
   "metadata": {},
   "outputs": [
    {
     "data": {
      "text/plain": [
       "2"
      ]
     },
     "execution_count": 19,
     "metadata": {},
     "output_type": "execute_result"
    }
   ],
   "source": [
    "# GET DIMENSIONS\n",
    "b.ndim"
   ]
  },
  {
   "cell_type": "code",
   "execution_count": 20,
   "id": "e4c3fa32-c6f2-40dd-9600-e72052fa41bd",
   "metadata": {},
   "outputs": [
    {
     "data": {
      "text/plain": [
       "(2, 2)"
      ]
     },
     "execution_count": 20,
     "metadata": {},
     "output_type": "execute_result"
    }
   ],
   "source": [
    "# Get Shape\n",
    "b.shape"
   ]
  },
  {
   "cell_type": "code",
   "execution_count": 21,
   "id": "2cad213e-3434-4ca6-8965-9fe80944ac48",
   "metadata": {},
   "outputs": [
    {
     "data": {
      "text/plain": [
       "(3,)"
      ]
     },
     "execution_count": 21,
     "metadata": {},
     "output_type": "execute_result"
    }
   ],
   "source": [
    "a.shape"
   ]
  },
  {
   "cell_type": "code",
   "execution_count": 31,
   "id": "3d7d51af-840d-4907-87e7-d596bef4d17c",
   "metadata": {},
   "outputs": [
    {
     "data": {
      "text/plain": [
       "array([1, 2, 3], dtype=int64)"
      ]
     },
     "execution_count": 31,
     "metadata": {},
     "output_type": "execute_result"
    }
   ],
   "source": [
    "# Control Datatype\n",
    "c=np.array([1,2,3], dtype='int64')\n",
    "c"
   ]
  },
  {
   "cell_type": "code",
   "execution_count": 33,
   "id": "1b1b2e5e-9cd0-44ed-8f82-107f7e64f31f",
   "metadata": {},
   "outputs": [
    {
     "data": {
      "text/plain": [
       "dtype('int64')"
      ]
     },
     "execution_count": 33,
     "metadata": {},
     "output_type": "execute_result"
    }
   ],
   "source": [
    "# Get DAtatype\n",
    "c.dtype"
   ]
  },
  {
   "cell_type": "code",
   "execution_count": 32,
   "id": "35f8ae13-a9cd-4966-84b5-c0b84e8805ed",
   "metadata": {},
   "outputs": [
    {
     "data": {
      "text/plain": [
       "8"
      ]
     },
     "execution_count": 32,
     "metadata": {},
     "output_type": "execute_result"
    }
   ],
   "source": [
    "# getsize *item*\n",
    "c.itemsize"
   ]
  },
  {
   "cell_type": "code",
   "execution_count": 34,
   "id": "c70ea520-a9e0-426e-b24e-2cecd1c599e6",
   "metadata": {},
   "outputs": [
    {
     "data": {
      "text/plain": [
       "24"
      ]
     },
     "execution_count": 34,
     "metadata": {},
     "output_type": "execute_result"
    }
   ],
   "source": [
    "#  Get total size\n",
    "# 3 elements * 8 bytes = 24\n",
    "c.nbytes"
   ]
  },
  {
   "cell_type": "markdown",
   "id": "52644366-c1d4-4328-a0f5-bc65c1cfd66e",
   "metadata": {},
   "source": [
    "## Acessing/Changing certain rows,columns,elements etc. ##"
   ]
  },
  {
   "cell_type": "code",
   "execution_count": 45,
   "id": "0a801796-3acd-43b7-bde7-e3b4bf683b77",
   "metadata": {},
   "outputs": [
    {
     "data": {
      "text/plain": [
       "10"
      ]
     },
     "execution_count": 45,
     "metadata": {},
     "output_type": "execute_result"
    }
   ],
   "source": [
    "# getting a specific element [r,c]\n",
    "d=np.array([[1,2,3,4,5,6,7],[8,9,10,11,12,13,14]])\n",
    "d[1,2]"
   ]
  },
  {
   "cell_type": "code",
   "execution_count": 47,
   "id": "bef5b8ad-9818-43ab-983b-26affa425618",
   "metadata": {},
   "outputs": [
    {
     "data": {
      "text/plain": [
       "array([1, 2, 3, 4, 5, 6, 7])"
      ]
     },
     "execution_count": 47,
     "metadata": {},
     "output_type": "execute_result"
    }
   ],
   "source": [
    "#getting a specific row [r,:]\n",
    "d[0,:]"
   ]
  },
  {
   "cell_type": "code",
   "execution_count": 48,
   "id": "58c0a0ef-1cd6-43e7-a812-89f9ee2ae07e",
   "metadata": {},
   "outputs": [
    {
     "data": {
      "text/plain": [
       "array([2, 9])"
      ]
     },
     "execution_count": 48,
     "metadata": {},
     "output_type": "execute_result"
    }
   ],
   "source": [
    "# getting a specific column [:,c]\n",
    "d[:,1]"
   ]
  },
  {
   "cell_type": "code",
   "execution_count": 53,
   "id": "6ceda4fc-aa4e-48bc-8ea7-ed16588ea631",
   "metadata": {},
   "outputs": [
    {
     "data": {
      "text/plain": [
       "array([10, 12])"
      ]
     },
     "execution_count": 53,
     "metadata": {},
     "output_type": "execute_result"
    }
   ],
   "source": [
    "# getting more fancier (getting elemmnts between specific indexes and with specific skip)(startindex:endindex:elementskipdistance)\n",
    "d[1,2:6:2]"
   ]
  },
  {
   "cell_type": "code",
   "execution_count": 64,
   "id": "c7991d18-3409-4175-ac7d-5f8dd2d68e8b",
   "metadata": {},
   "outputs": [
    {
     "name": "stdout",
     "output_type": "stream",
     "text": [
      "[[ 1  2  1  4  5  6  7]\n",
      " [ 8  9 20 11 12 13 14]]\n",
      "[[1 2 1 4 5 6 7]\n",
      " [7 6 5 4 3 2 1]]\n"
     ]
    }
   ],
   "source": [
    "# changing elements\n",
    "d[1,2]=20\n",
    "print(d)\n",
    "# changing whole row or column\n",
    "d[1,:]=[7,6,5,4,3,2,1]\n",
    "print(d)"
   ]
  },
  {
   "cell_type": "markdown",
   "id": "7d65b1f8-762a-4e0e-b8f1-a7699ff2a181",
   "metadata": {},
   "source": [
    "# 3D EXAMPLE #"
   ]
  },
  {
   "cell_type": "code",
   "execution_count": 67,
   "id": "132483fa-d44b-42c1-ae0b-567a2c67cacb",
   "metadata": {},
   "outputs": [
    {
     "name": "stdout",
     "output_type": "stream",
     "text": [
      "[[[ 1  2]\n",
      "  [ 4  5]]\n",
      "\n",
      " [[ 7  8]\n",
      "  [ 9 10]]]\n"
     ]
    }
   ],
   "source": [
    "a=np.array([[[1,2],[4,5]],[[7,8],[9,10]]])\n",
    "print(a)"
   ]
  },
  {
   "cell_type": "code",
   "execution_count": 68,
   "id": "41c0fde9-7282-465e-9f87-e72ad25bb0db",
   "metadata": {},
   "outputs": [
    {
     "data": {
      "text/plain": [
       "5"
      ]
     },
     "execution_count": 68,
     "metadata": {},
     "output_type": "execute_result"
    }
   ],
   "source": [
    "# getting a specific element (work inside out)\n",
    "# for let's say getting no. 5\n",
    "\n",
    "a[0,1,1]\n",
    "\n"
   ]
  },
  {
   "cell_type": "code",
   "execution_count": 70,
   "id": "e1a19014-df5b-4e95-a9af-af242982d0b5",
   "metadata": {},
   "outputs": [
    {
     "data": {
      "text/plain": [
       "array([[ 2,  5],\n",
       "       [ 8, 10]])"
      ]
     },
     "execution_count": 70,
     "metadata": {},
     "output_type": "execute_result"
    }
   ],
   "source": [
    "#experimenting\n",
    "a[:,:,1]"
   ]
  },
  {
   "cell_type": "code",
   "execution_count": 74,
   "id": "eff66271-cb4e-4d20-ac4d-f7f3097ecb04",
   "metadata": {},
   "outputs": [
    {
     "name": "stdout",
     "output_type": "stream",
     "text": [
      "[[[ 1  2]\n",
      "  [10 10]]\n",
      "\n",
      " [[ 7  8]\n",
      "  [11 10]]]\n"
     ]
    }
   ],
   "source": [
    "# replacing values\n",
    "a[:,1,:1]=[[10],[11]]\n",
    "print(a)"
   ]
  },
  {
   "cell_type": "markdown",
   "id": "97cf46ab-dc24-403f-a658-f6da5c4c1f5b",
   "metadata": {},
   "source": [
    "## Initializing different types of arrays ##"
   ]
  },
  {
   "cell_type": "code",
   "execution_count": 79,
   "id": "81ac2d0a-e9f6-471d-adaa-023a0373c0ed",
   "metadata": {},
   "outputs": [
    {
     "data": {
      "text/plain": [
       "array([[0., 0., 0.],\n",
       "       [0., 0., 0.],\n",
       "       [0., 0., 0.]])"
      ]
     },
     "execution_count": 79,
     "metadata": {},
     "output_type": "execute_result"
    }
   ],
   "source": [
    "# All 0's\n",
    "x=np.zeros((3,3))\n",
    "x\n"
   ]
  },
  {
   "cell_type": "code",
   "execution_count": 81,
   "id": "f3606430-b3cb-4e1d-83ae-d1deb87f557d",
   "metadata": {},
   "outputs": [
    {
     "data": {
      "text/plain": [
       "array([[1, 1],\n",
       "       [1, 1]], dtype=int64)"
      ]
     },
     "execution_count": 81,
     "metadata": {},
     "output_type": "execute_result"
    }
   ],
   "source": [
    "# all ones, (can still change datatype)\n",
    "x=np.ones((2,2), dtype='int64')\n",
    "x"
   ]
  },
  {
   "cell_type": "code",
   "execution_count": 82,
   "id": "1cc18ed6-c3d8-47f1-8644-a1fffd67bf9e",
   "metadata": {},
   "outputs": [
    {
     "data": {
      "text/plain": [
       "array([[5, 5, 5],\n",
       "       [5, 5, 5],\n",
       "       [5, 5, 5]])"
      ]
     },
     "execution_count": 82,
     "metadata": {},
     "output_type": "execute_result"
    }
   ],
   "source": [
    "# any other number ((rows,columns),number)\n",
    "x=np.full((3,3),5)\n",
    "x"
   ]
  },
  {
   "cell_type": "code",
   "execution_count": 84,
   "id": "a763c585-4073-42e4-a768-5ce52c409bf3",
   "metadata": {},
   "outputs": [
    {
     "data": {
      "text/plain": [
       "array([[[7, 7],\n",
       "        [7, 7]],\n",
       "\n",
       "       [[7, 7],\n",
       "        [7, 7]]])"
      ]
     },
     "execution_count": 84,
     "metadata": {},
     "output_type": "execute_result"
    }
   ],
   "source": [
    "# shape like any other exisiting array\n",
    "x=np.full_like(a,7)\n",
    "x"
   ]
  },
  {
   "cell_type": "code",
   "execution_count": 90,
   "id": "97f3d31b-4a07-4548-a0bb-4b48affb1b4c",
   "metadata": {},
   "outputs": [
    {
     "data": {
      "text/plain": [
       "array([[0.36154554, 0.92757006, 0.59214671, 0.94446378],\n",
       "       [0.87015667, 0.2846752 , 0.61618193, 0.22661089],\n",
       "       [0.95471222, 0.3965208 , 0.54305181, 0.27078641],\n",
       "       [0.35325645, 0.19779612, 0.13971217, 0.1811245 ]])"
      ]
     },
     "execution_count": 90,
     "metadata": {},
     "output_type": "execute_result"
    }
   ],
   "source": [
    "#  random DECIMAL numbers (shape without parenthesis)\n",
    "x=np.random.rand(4,4)\n",
    "x"
   ]
  },
  {
   "cell_type": "code",
   "execution_count": 92,
   "id": "683c644c-1dc3-4d8e-99db-c1973d0d57d7",
   "metadata": {},
   "outputs": [
    {
     "data": {
      "text/plain": [
       "array([[[0.89572145, 0.08508126],\n",
       "        [0.72306401, 0.97425401]],\n",
       "\n",
       "       [[0.39099705, 0.31279852],\n",
       "        [0.4933568 , 0.21259365]]])"
      ]
     },
     "execution_count": 92,
     "metadata": {},
     "output_type": "execute_result"
    }
   ],
   "source": [
    "# RANDOM BUT SHAPE SAME AS EXISTING ONE *RANDOM_SAMPLE*\n",
    "x=np.random.random_sample(a.shape)\n",
    "x"
   ]
  },
  {
   "cell_type": "code",
   "execution_count": 93,
   "id": "b3c2e75b-0785-489a-8cb1-02cebd439b0b",
   "metadata": {},
   "outputs": [
    {
     "data": {
      "text/plain": [
       "(2, 2, 2)"
      ]
     },
     "execution_count": 93,
     "metadata": {},
     "output_type": "execute_result"
    }
   ],
   "source": [
    "x.shape"
   ]
  },
  {
   "cell_type": "code",
   "execution_count": 94,
   "id": "ae017723-78e1-42bb-9fcc-2cd832609925",
   "metadata": {},
   "outputs": [
    {
     "data": {
      "text/plain": [
       "64"
      ]
     },
     "execution_count": 94,
     "metadata": {},
     "output_type": "execute_result"
    }
   ],
   "source": [
    "x.nbytes"
   ]
  },
  {
   "cell_type": "code",
   "execution_count": 103,
   "id": "8863b648-01ce-4d9a-9adb-efd7d7686fe6",
   "metadata": {},
   "outputs": [
    {
     "data": {
      "text/plain": [
       "array([[7, 3, 0],\n",
       "       [7, 6, 2],\n",
       "       [4, 1, 7]])"
      ]
     },
     "execution_count": 103,
     "metadata": {},
     "output_type": "execute_result"
    }
   ],
   "source": [
    "# random INT value ( max value,size=(rows,columns))\n",
    "x=np.random.randint(10, size=(3,3))\n",
    "x"
   ]
  },
  {
   "cell_type": "code",
   "execution_count": 108,
   "id": "4e28f0a2-98b7-4284-b59c-71018044cf7c",
   "metadata": {},
   "outputs": [
    {
     "data": {
      "text/plain": [
       "array([[1., 0., 0.],\n",
       "       [0., 1., 0.],\n",
       "       [0., 0., 1.]])"
      ]
     },
     "execution_count": 108,
     "metadata": {},
     "output_type": "execute_result"
    }
   ],
   "source": [
    "#  identity matrix\n",
    "x=np.identity((3))\n",
    "x"
   ]
  },
  {
   "cell_type": "markdown",
   "id": "0292bd7c-bfb7-4ad8-9a35-049037e75448",
   "metadata": {},
   "source": [
    "## TASK: BUILDING A MATRIX OF 5X5 WITH ALL BORDERS=1, CENTRE=9 THE REST=0\n"
   ]
  },
  {
   "cell_type": "code",
   "execution_count": 112,
   "id": "7de0d014-0daa-4794-b73e-9740d5d2755e",
   "metadata": {},
   "outputs": [
    {
     "data": {
      "text/plain": [
       "array([[1., 1., 1., 1., 1.],\n",
       "       [1., 0., 0., 0., 1.],\n",
       "       [1., 0., 9., 0., 1.],\n",
       "       [1., 0., 0., 0., 1.],\n",
       "       [1., 1., 1., 1., 1.]])"
      ]
     },
     "execution_count": 112,
     "metadata": {},
     "output_type": "execute_result"
    }
   ],
   "source": [
    "t1=np.ones((5,5))\n",
    "t1[1:4,1:4]=0\n",
    "t1[2,2]=9\n",
    "\n",
    "t1"
   ]
  },
  {
   "cell_type": "code",
   "execution_count": 115,
   "id": "927f4a1f-e3b9-4f89-b1bf-84f58df3e083",
   "metadata": {},
   "outputs": [
    {
     "data": {
      "text/plain": [
       "array([[1., 1., 1., 1., 1.],\n",
       "       [1., 0., 0., 0., 1.],\n",
       "       [1., 0., 9., 0., 1.],\n",
       "       [1., 0., 0., 0., 1.],\n",
       "       [1., 1., 1., 1., 1.]])"
      ]
     },
     "execution_count": 115,
     "metadata": {},
     "output_type": "execute_result"
    }
   ],
   "source": [
    "# or\n",
    "t1=np.ones((5,5))\n",
    "thelp=np.zeros((3,3))\n",
    "thelp[1,1]=9\n",
    "t1[1:-1,1:-1]=thelp\n",
    "t1"
   ]
  },
  {
   "cell_type": "markdown",
   "id": "53d61abe-0890-43cf-9d7e-dc838b70d2ae",
   "metadata": {},
   "source": [
    "### BE CAREFULL WHILE COPYING ARRAYS"
   ]
  },
  {
   "cell_type": "code",
   "execution_count": 119,
   "id": "3d9d2052-f504-4a61-aeda-825a128b80d1",
   "metadata": {},
   "outputs": [
    {
     "name": "stdout",
     "output_type": "stream",
     "text": [
      "[[6 6]\n",
      " [1 0]]\n",
      "[[ 6 20]\n",
      " [ 1  0]]\n",
      "[[ 6 20]\n",
      " [ 1  0]]\n"
     ]
    }
   ],
   "source": [
    "a=np.random.randint(7,size=(2,2))\n",
    "print(a)\n",
    "b=a\n",
    "b[0,1]=20\n",
    "print(b)\n",
    "print(a)\n",
    "# the value changes for a too!!!!"
   ]
  },
  {
   "cell_type": "code",
   "execution_count": 120,
   "id": "d56caf17-043c-4038-8e53-5d1280869509",
   "metadata": {},
   "outputs": [
    {
     "name": "stdout",
     "output_type": "stream",
     "text": [
      "[[ 6 20]\n",
      " [ 1  0]]\n",
      "[[ 6 20]\n",
      " [ 1 99]]\n",
      "[[ 6 20]\n",
      " [ 1  0]]\n"
     ]
    }
   ],
   "source": [
    "# use copy \n",
    "print(a)\n",
    "b=a.copy()\n",
    "b[1,1]=99\n",
    "print(b)\n",
    "print(a)\n",
    "# value saved"
   ]
  },
  {
   "cell_type": "markdown",
   "id": "3c24d223-4289-4a23-b0e4-05db1d0158e3",
   "metadata": {},
   "source": [
    "## Mathematics"
   ]
  },
  {
   "cell_type": "code",
   "execution_count": 121,
   "id": "fee7fd6f-3588-4cf7-80c3-adb074a29db7",
   "metadata": {},
   "outputs": [
    {
     "data": {
      "text/plain": [
       "array([[1, 2],\n",
       "       [2, 1]])"
      ]
     },
     "execution_count": 121,
     "metadata": {},
     "output_type": "execute_result"
    }
   ],
   "source": [
    "a=np.array([[1,2],[2,1]])\n",
    "a"
   ]
  },
  {
   "cell_type": "code",
   "execution_count": 122,
   "id": "25f7d745-bd6b-4ef6-93d3-11e0c484546b",
   "metadata": {},
   "outputs": [
    {
     "data": {
      "text/plain": [
       "array([[3, 4],\n",
       "       [4, 3]])"
      ]
     },
     "execution_count": 122,
     "metadata": {},
     "output_type": "execute_result"
    }
   ],
   "source": [
    "a+2"
   ]
  },
  {
   "cell_type": "code",
   "execution_count": 123,
   "id": "02840210-a87f-413f-bc65-65450cc6a9bd",
   "metadata": {},
   "outputs": [
    {
     "data": {
      "text/plain": [
       "array([[-1,  0],\n",
       "       [ 0, -1]])"
      ]
     },
     "execution_count": 123,
     "metadata": {},
     "output_type": "execute_result"
    }
   ],
   "source": [
    "a-2"
   ]
  },
  {
   "cell_type": "code",
   "execution_count": 124,
   "id": "52891db9-fb4f-4128-9fd7-1938567ab169",
   "metadata": {},
   "outputs": [
    {
     "data": {
      "text/plain": [
       "array([[2, 4],\n",
       "       [4, 2]])"
      ]
     },
     "execution_count": 124,
     "metadata": {},
     "output_type": "execute_result"
    }
   ],
   "source": [
    "a*2"
   ]
  },
  {
   "cell_type": "code",
   "execution_count": 126,
   "id": "3ff50434-1b98-409b-a55a-1dabd5e14402",
   "metadata": {},
   "outputs": [
    {
     "data": {
      "text/plain": [
       "array([[0.5, 1. ],\n",
       "       [1. , 0.5]])"
      ]
     },
     "execution_count": 126,
     "metadata": {},
     "output_type": "execute_result"
    }
   ],
   "source": [
    "a/2"
   ]
  },
  {
   "cell_type": "code",
   "execution_count": 133,
   "id": "9a653dfe-6ad4-4cc9-8957-d8584327a470",
   "metadata": {},
   "outputs": [
    {
     "data": {
      "text/plain": [
       "array([[1, 4],\n",
       "       [4, 1]])"
      ]
     },
     "execution_count": 133,
     "metadata": {},
     "output_type": "execute_result"
    }
   ],
   "source": [
    "# to increment power\n",
    "a**2\n"
   ]
  },
  {
   "cell_type": "code",
   "execution_count": 134,
   "id": "feaa6f7d-2c0e-4766-814b-08cc6f61b3b4",
   "metadata": {},
   "outputs": [
    {
     "data": {
      "text/plain": [
       "array([[7, 8],\n",
       "       [8, 7]])"
      ]
     },
     "execution_count": 134,
     "metadata": {},
     "output_type": "execute_result"
    }
   ],
   "source": [
    "b=np.array([[6,6],[6,6]])\n",
    "a+b"
   ]
  },
  {
   "cell_type": "code",
   "execution_count": 130,
   "id": "e192549e-ab26-42af-8662-ef5b4ee7bb5e",
   "metadata": {},
   "outputs": [
    {
     "data": {
      "text/plain": [
       "array([[ 6, 12],\n",
       "       [12,  6]])"
      ]
     },
     "execution_count": 130,
     "metadata": {},
     "output_type": "execute_result"
    }
   ],
   "source": [
    "a*b #does scalar multiplication"
   ]
  },
  {
   "cell_type": "code",
   "execution_count": 135,
   "id": "d5c7bc13-fbd8-44f6-ad66-f99dbb87f0fe",
   "metadata": {},
   "outputs": [
    {
     "data": {
      "text/plain": [
       "array([[0.84147098, 0.90929743],\n",
       "       [0.90929743, 0.84147098]])"
      ]
     },
     "execution_count": 135,
     "metadata": {},
     "output_type": "execute_result"
    }
   ],
   "source": [
    "# to find sin\n",
    "np.sin(a)"
   ]
  },
  {
   "cell_type": "markdown",
   "id": "306b3ec5-b7fa-4573-b20c-8aae5759fbbe",
   "metadata": {},
   "source": [
    "## Linear Algebra"
   ]
  },
  {
   "cell_type": "code",
   "execution_count": 137,
   "id": "451e9fc7-e7ee-4ede-b269-966e6f046fd1",
   "metadata": {},
   "outputs": [
    {
     "name": "stdout",
     "output_type": "stream",
     "text": [
      "[[5 5]\n",
      " [5 5]]\n",
      "[[2 2 2]\n",
      " [2 2 2]]\n"
     ]
    }
   ],
   "source": [
    "a=np.full((2,2),5)\n",
    "print(a)\n",
    "\n",
    "b=np.full((2,3),2)\n",
    "print(b)"
   ]
  },
  {
   "cell_type": "code",
   "execution_count": 138,
   "id": "8f5048e8-a50d-435d-bffc-2b0f84d3baa4",
   "metadata": {},
   "outputs": [
    {
     "data": {
      "text/plain": [
       "array([[20, 20, 20],\n",
       "       [20, 20, 20]])"
      ]
     },
     "execution_count": 138,
     "metadata": {},
     "output_type": "execute_result"
    }
   ],
   "source": [
    "# to multiply\n",
    "np.matmul(a,b)"
   ]
  },
  {
   "cell_type": "code",
   "execution_count": 141,
   "id": "c22c7604-4536-4282-bc9a-a353e36f1d6b",
   "metadata": {},
   "outputs": [
    {
     "data": {
      "text/plain": [
       "0.0"
      ]
     },
     "execution_count": 141,
     "metadata": {},
     "output_type": "execute_result"
    }
   ],
   "source": [
    "# to find determinent\n",
    "c=np.full((4,4),5)\n",
    "np.linalg.det(c)\n"
   ]
  },
  {
   "cell_type": "code",
   "execution_count": 142,
   "id": "3b1d974f-8919-4213-b2e5-b2e7eecced75",
   "metadata": {},
   "outputs": [],
   "source": [
    "# can also find \n",
    "# inverse\n",
    "# trace\n",
    "# eigen vectors and values\n",
    "# singular vector decomposition\n",
    "# matrix norm\n",
    "# etc"
   ]
  },
  {
   "cell_type": "markdown",
   "id": "a7a44bbf-0785-4334-99ee-1f3d179fecf4",
   "metadata": {},
   "source": [
    "### STATISTICS"
   ]
  },
  {
   "cell_type": "code",
   "execution_count": 151,
   "id": "d0794560-7534-4a8b-8a73-81a3c923b2a0",
   "metadata": {},
   "outputs": [
    {
     "data": {
      "text/plain": [
       "array([[1, 2, 3],\n",
       "       [4, 5, 6],\n",
       "       [7, 8, 9]])"
      ]
     },
     "execution_count": 151,
     "metadata": {},
     "output_type": "execute_result"
    }
   ],
   "source": [
    "stat=np.array([[1,2,3],[4,5,6],[7,8,9]])\n",
    "stat"
   ]
  },
  {
   "cell_type": "code",
   "execution_count": 145,
   "id": "7a67ffa8-ef13-413c-ac1f-bb051aebef7f",
   "metadata": {},
   "outputs": [
    {
     "data": {
      "text/plain": [
       "1"
      ]
     },
     "execution_count": 145,
     "metadata": {},
     "output_type": "execute_result"
    }
   ],
   "source": [
    "np.min(stat)"
   ]
  },
  {
   "cell_type": "code",
   "execution_count": 150,
   "id": "5816b92e-ce9f-4251-9745-0c660bd16938",
   "metadata": {},
   "outputs": [
    {
     "data": {
      "text/plain": [
       "array([20,  6,  9])"
      ]
     },
     "execution_count": 150,
     "metadata": {},
     "output_type": "execute_result"
    }
   ],
   "source": [
    "np.max(stat,axis=1)"
   ]
  },
  {
   "cell_type": "code",
   "execution_count": 153,
   "id": "b4dd5979-b0fe-4408-8c3d-765e3e47bdbf",
   "metadata": {},
   "outputs": [
    {
     "data": {
      "text/plain": [
       "45"
      ]
     },
     "execution_count": 153,
     "metadata": {},
     "output_type": "execute_result"
    }
   ],
   "source": [
    "np.sum(stat)"
   ]
  },
  {
   "cell_type": "markdown",
   "id": "98facc74-5450-4828-8564-803410d6564c",
   "metadata": {},
   "source": [
    "## reorganising arrays"
   ]
  },
  {
   "cell_type": "code",
   "execution_count": 160,
   "id": "034e3d7d-c755-410d-8bc0-c7e3024a8e34",
   "metadata": {},
   "outputs": [
    {
     "data": {
      "text/plain": [
       "array([[1., 1.],\n",
       "       [1., 1.],\n",
       "       [1., 1.],\n",
       "       [1., 1.],\n",
       "       [1., 1.]])"
      ]
     },
     "execution_count": 160,
     "metadata": {},
     "output_type": "execute_result"
    }
   ],
   "source": [
    "a= np.ones((1,10))\n",
    "b= a.reshape((5,2))\n",
    "b\n",
    "# total no. of elements need to same"
   ]
  },
  {
   "cell_type": "code",
   "execution_count": 165,
   "id": "f6c11b35-c909-4e53-84e1-997ba4874380",
   "metadata": {},
   "outputs": [
    {
     "data": {
      "text/plain": [
       "array([[1, 2, 3, 4],\n",
       "       [5, 6, 7, 8],\n",
       "       [1, 2, 3, 4],\n",
       "       [5, 6, 7, 8]])"
      ]
     },
     "execution_count": 165,
     "metadata": {},
     "output_type": "execute_result"
    }
   ],
   "source": [
    "# vertically stacking\n",
    "v1=np.array([1,2,3,4])\n",
    "v2=np.array([5,6,7,8])\n",
    "\n",
    "np.vstack([v1,v2,v1,v2])\n",
    "# shape needs to be same\n"
   ]
  },
  {
   "cell_type": "code",
   "execution_count": 166,
   "id": "48c0f798-4ba0-4444-aa42-5481d21d9417",
   "metadata": {},
   "outputs": [
    {
     "data": {
      "text/plain": [
       "array([1, 2, 3, 4, 5, 6, 7, 8])"
      ]
     },
     "execution_count": 166,
     "metadata": {},
     "output_type": "execute_result"
    }
   ],
   "source": [
    "#  horizontally stacking\n",
    "np.hstack([v1,v2])"
   ]
  },
  {
   "cell_type": "markdown",
   "id": "43f38733-5edc-4ff8-a1ba-750bd841fb9d",
   "metadata": {},
   "source": [
    "## Miscellaneous Things"
   ]
  },
  {
   "cell_type": "markdown",
   "id": "187465a9-912f-41d2-8718-019f053751f7",
   "metadata": {},
   "source": [
    "\n",
    "#### load data from a file"
   ]
  },
  {
   "cell_type": "code",
   "execution_count": 170,
   "id": "1938dba6-0ebf-4309-933b-5890fa2b8193",
   "metadata": {},
   "outputs": [
    {
     "data": {
      "text/plain": [
       "array([[  1,  13,  21,  11, 196,  75,   4,   3,  34,   6,   7,   8,   0,\n",
       "          1,   2,   3,   4,   5],\n",
       "       [  3,  42,  12,  33, 766,  75,   4,  55,   6,   4,   3,   4,   5,\n",
       "          6,   7,   0,  11,  12],\n",
       "       [  1,  22,  33,  11, 999,  11,   2,   1,  78,   0,   1,   2,   9,\n",
       "          8,   7,   1,  76,  88]])"
      ]
     },
     "execution_count": 170,
     "metadata": {},
     "output_type": "execute_result"
    }
   ],
   "source": [
    "file_data= np.genfromtxt('data.txt', delimiter=',')#delimitters are separation\n",
    "file_data.astype('int32')"
   ]
  },
  {
   "cell_type": "markdown",
   "id": "09de83b7-5087-44e8-8a9e-5e59bd858753",
   "metadata": {},
   "source": [
    "#### Boolean Masking and Advanced Indexing"
   ]
  },
  {
   "cell_type": "code",
   "execution_count": 178,
   "id": "6d3d52ee-a81c-409b-8fcb-eb9c6e583eed",
   "metadata": {},
   "outputs": [
    {
     "data": {
      "text/plain": [
       "array([[False, False, False, False,  True,  True, False, False, False,\n",
       "        False, False, False, False, False, False, False, False, False],\n",
       "       [False, False, False, False,  True,  True, False,  True, False,\n",
       "        False, False, False, False, False, False, False, False, False],\n",
       "       [False, False, False, False,  True, False, False, False,  True,\n",
       "        False, False, False, False, False, False, False,  True,  True]])"
      ]
     },
     "execution_count": 178,
     "metadata": {},
     "output_type": "execute_result"
    }
   ],
   "source": [
    "file_data > 50"
   ]
  },
  {
   "cell_type": "code",
   "execution_count": 179,
   "id": "85e67a60-45cf-4eff-8ccd-b23f7343643e",
   "metadata": {},
   "outputs": [
    {
     "data": {
      "text/plain": [
       "array([196.,  75., 766.,  75.,  55., 999.,  78.,  76.,  88.])"
      ]
     },
     "execution_count": 179,
     "metadata": {},
     "output_type": "execute_result"
    }
   ],
   "source": [
    "a=file_data[file_data > 50]\n",
    "a"
   ]
  },
  {
   "cell_type": "code",
   "execution_count": 180,
   "id": "c5f8bea9-3167-4c93-bd3d-ba7b53fbb922",
   "metadata": {},
   "outputs": [
    {
     "data": {
      "text/plain": [
       "array([196,  75, 766,  75,  55, 999,  78,  76,  88])"
      ]
     },
     "execution_count": 180,
     "metadata": {},
     "output_type": "execute_result"
    }
   ],
   "source": [
    "a.astype('int32')"
   ]
  },
  {
   "cell_type": "code",
   "execution_count": 182,
   "id": "8cbfc521-4495-4c06-9b7e-43178d44235f",
   "metadata": {},
   "outputs": [
    {
     "data": {
      "text/plain": [
       "array([2, 3, 6])"
      ]
     },
     "execution_count": 182,
     "metadata": {},
     "output_type": "execute_result"
    }
   ],
   "source": [
    "# can be indexed thru an array\n",
    "a=np.array([1,2,3,4,5,6,7])\n",
    "a[[1,2,5]]"
   ]
  },
  {
   "cell_type": "code",
   "execution_count": 185,
   "id": "a024acbe-bfb9-4ef3-ad04-e3a87d2a08a5",
   "metadata": {},
   "outputs": [
    {
     "data": {
      "text/plain": [
       "array([False, False, False, False,  True,  True, False,  True,  True,\n",
       "       False, False, False, False, False, False, False,  True,  True])"
      ]
     },
     "execution_count": 185,
     "metadata": {},
     "output_type": "execute_result"
    }
   ],
   "source": [
    "# ANY data =.....\n",
    "np.any( file_data > 50)\n",
    "# any data =..... for all columns\n",
    "np.any( file_data > 50, axis=0)\n",
    "# here these true false indexes refer to the column's index"
   ]
  },
  {
   "cell_type": "code",
   "execution_count": 186,
   "id": "f726f175-6e2b-473e-9fb1-a20dd85fa99c",
   "metadata": {},
   "outputs": [
    {
     "data": {
      "text/plain": [
       "array([False, False, False, False,  True, False, False, False, False,\n",
       "       False, False, False, False, False, False, False, False, False])"
      ]
     },
     "execution_count": 186,
     "metadata": {},
     "output_type": "execute_result"
    }
   ],
   "source": [
    "# ALL data =.....\n",
    "np.all( file_data > 50)\n",
    "# ALL data =..... for all columns\n",
    "np.all( file_data > 50, axis=0)\n",
    "# here these true false indexes refer to the column's index"
   ]
  },
  {
   "cell_type": "code",
   "execution_count": 187,
   "id": "029940bc-43fa-42f8-826f-43732748cce7",
   "metadata": {},
   "outputs": [
    {
     "data": {
      "text/plain": [
       "array([[False,  True, False,  True, False, False, False, False, False,\n",
       "        False, False, False, False, False, False, False, False, False],\n",
       "       [False, False,  True, False, False, False, False, False, False,\n",
       "        False, False, False, False, False, False, False,  True,  True],\n",
       "       [False, False, False,  True, False,  True, False, False, False,\n",
       "        False, False, False, False, False, False, False, False, False]])"
      ]
     },
     "execution_count": 187,
     "metadata": {},
     "output_type": "execute_result"
    }
   ],
   "source": [
    "((file_data <20) & (file_data >10)) "
   ]
  },
  {
   "cell_type": "code",
   "execution_count": 190,
   "id": "db2b7182-854e-429b-ac01-2be944a8240c",
   "metadata": {},
   "outputs": [
    {
     "data": {
      "text/plain": [
       "array([[ True, False,  True, False,  True,  True,  True,  True,  True,\n",
       "         True,  True,  True,  True,  True,  True,  True,  True,  True],\n",
       "       [ True,  True, False,  True,  True,  True,  True,  True,  True,\n",
       "         True,  True,  True,  True,  True,  True,  True, False, False],\n",
       "       [ True,  True,  True, False,  True, False,  True,  True,  True,\n",
       "         True,  True,  True,  True,  True,  True,  True,  True,  True]])"
      ]
     },
     "execution_count": 190,
     "metadata": {},
     "output_type": "execute_result"
    }
   ],
   "source": [
    "~((file_data <20) & (file_data >10))"
   ]
  },
  {
   "cell_type": "markdown",
   "id": "58b7569e-1f49-44ac-a8b8-52118439ff08",
   "metadata": {},
   "source": [
    "## TASK 2"
   ]
  },
  {
   "cell_type": "code",
   "execution_count": 191,
   "id": "137f5343-be6c-46c7-9545-67045f4cd282",
   "metadata": {},
   "outputs": [
    {
     "data": {
      "text/plain": [
       "array([[ 1,  2,  3,  4,  5],\n",
       "       [ 6,  7,  8,  9, 10],\n",
       "       [11, 12, 13, 14, 15],\n",
       "       [16, 17, 18, 19, 20],\n",
       "       [21, 22, 23, 24, 25],\n",
       "       [26, 27, 28, 29, 30]])"
      ]
     },
     "execution_count": 191,
     "metadata": {},
     "output_type": "execute_result"
    }
   ],
   "source": [
    "t2=np.array([[1,2,3,4,5],[6,7,8,9,10],[11,12,13,14,15],[16,17,18,19,20],[21,22,23,24,25],[26,27,28,29,30]])\n",
    "t2"
   ]
  },
  {
   "cell_type": "code",
   "execution_count": 194,
   "id": "671fd3ca-d07c-458c-a836-852a2dbaa482",
   "metadata": {},
   "outputs": [
    {
     "data": {
      "text/plain": [
       "array([[11, 12],\n",
       "       [16, 17]])"
      ]
     },
     "execution_count": 194,
     "metadata": {},
     "output_type": "execute_result"
    }
   ],
   "source": [
    "# to access 11,12,16,17\n",
    "t2[2:4 , 0:2]"
   ]
  },
  {
   "cell_type": "code",
   "execution_count": 196,
   "id": "e8938d17-f7b6-460f-be10-ae0df28af6cc",
   "metadata": {},
   "outputs": [
    {
     "data": {
      "text/plain": [
       "array([ 2,  8, 14, 20])"
      ]
     },
     "execution_count": 196,
     "metadata": {},
     "output_type": "execute_result"
    }
   ],
   "source": [
    "# to access 2,8,14,20\n",
    "t2[[0,1,2,3],[1,2,3,4]]"
   ]
  },
  {
   "cell_type": "code",
   "execution_count": 201,
   "id": "f72a9118-6298-4b68-8da9-6b1b0a131aba",
   "metadata": {},
   "outputs": [
    {
     "data": {
      "text/plain": [
       "array([[ 4,  5],\n",
       "       [24, 25],\n",
       "       [29, 30]])"
      ]
     },
     "execution_count": 201,
     "metadata": {},
     "output_type": "execute_result"
    }
   ],
   "source": [
    "# to access 4,5,24,25,29,30\n",
    "t2[[0,4,5],3:]"
   ]
  },
  {
   "cell_type": "markdown",
   "id": "13889bba-8ea9-4d14-962c-07347450dffa",
   "metadata": {},
   "source": [
    "## ENDS"
   ]
  },
  {
   "cell_type": "code",
   "execution_count": null,
   "id": "bed8f742-e205-450d-b759-4e47c87daf28",
   "metadata": {},
   "outputs": [],
   "source": []
  }
 ],
 "metadata": {
  "kernelspec": {
   "display_name": "Python 3 (ipykernel)",
   "language": "python",
   "name": "python3"
  },
  "language_info": {
   "codemirror_mode": {
    "name": "ipython",
    "version": 3
   },
   "file_extension": ".py",
   "mimetype": "text/x-python",
   "name": "python",
   "nbconvert_exporter": "python",
   "pygments_lexer": "ipython3",
   "version": "3.11.4"
  }
 },
 "nbformat": 4,
 "nbformat_minor": 5
}
